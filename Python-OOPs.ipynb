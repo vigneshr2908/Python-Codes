{
 "cells": [
  {
   "cell_type": "code",
   "execution_count": 2,
   "metadata": {},
   "outputs": [],
   "source": [
    "class Human:\n",
    "    pass"
   ]
  },
  {
   "cell_type": "code",
   "execution_count": 3,
   "metadata": {},
   "outputs": [],
   "source": [
    "class student():\n",
    "    lst = ['CVA']\n",
    "    def __init__(self, st_name, st_id, st_city, st_std):\n",
    "        self.name = st_name\n",
    "        self.id = st_id\n",
    "        self.city = st_city\n",
    "        self.std = st_std"
   ]
  },
  {
   "cell_type": "code",
   "execution_count": 5,
   "metadata": {},
   "outputs": [],
   "source": [
    "st1 = student(st_name='Rithik', st_id='CV1', st_city='Trivandrum', st_std='X')\n",
    "st2 = student(st_name='Vedani', st_id='CV1', st_city='Kollam', st_std='X')\n",
    "st3 = student(st_name='Maracko', st_id='CV1', st_city='Trichur', st_std='X')"
   ]
  },
  {
   "cell_type": "code",
   "execution_count": 8,
   "metadata": {},
   "outputs": [],
   "source": [
    "st1.lst.append(['TCS'])"
   ]
  },
  {
   "cell_type": "code",
   "execution_count": 13,
   "metadata": {},
   "outputs": [
    {
     "name": "stdout",
     "output_type": "stream",
     "text": [
      "Trivandrum\n",
      "\n",
      "X\n",
      "\n",
      "Maracko\n"
     ]
    }
   ],
   "source": [
    "print(st1.city)\n",
    "print()\n",
    "print(st2.std)\n",
    "print()\n",
    "print(st3.name)"
   ]
  },
  {
   "cell_type": "code",
   "execution_count": 26,
   "metadata": {},
   "outputs": [],
   "source": [
    "class Contact():\n",
    "    lst = []\n",
    "    def __init__(self, name, mob, email):\n",
    "        self.name = name\n",
    "        self.mob = mob\n",
    "        self.email = email\n",
    "        Contact.lst.append(self)"
   ]
  },
  {
   "cell_type": "code",
   "execution_count": 27,
   "metadata": {},
   "outputs": [
    {
     "data": {
      "text/plain": [
       "[<__main__.Contact at 0x2e7e2e9e508>]"
      ]
     },
     "execution_count": 27,
     "metadata": {},
     "output_type": "execute_result"
    }
   ],
   "source": [
    "contact1 = Contact('Raj', '9809056421', 'raj@gmail.com')\n",
    "contact1.lst"
   ]
  },
  {
   "cell_type": "code",
   "execution_count": 9,
   "metadata": {},
   "outputs": [
    {
     "name": "stdout",
     "output_type": "stream",
     "text": [
      "9874563210\n",
      "mathews@gmail.com\n"
     ]
    }
   ],
   "source": [
    "class Contact:\n",
    "    contact_list = []\n",
    "    def __init__(self, name, mob, email):\n",
    "        self.name = name\n",
    "        self.mob = mob\n",
    "        self.email = email\n",
    "        self.contact_list.append(self)\n",
    "        \n",
    "    @classmethod\n",
    "    def contact_info(cls, name):\n",
    "        for i in cls.contact_list:\n",
    "            if i.name == name:\n",
    "                print(i.mob)\n",
    "                print(i.email)\n",
    "                \n",
    "c1 = Contact('Mathews', '9874563210', 'mathews@gmail.com')\n",
    "\n",
    "Contact.contact_info('Mathews')"
   ]
  },
  {
   "cell_type": "code",
   "execution_count": 5,
   "metadata": {},
   "outputs": [],
   "source": [
    "class contact():\n",
    "    def __init__(self, name, mob, email):\n",
    "        self.name = name\n",
    "        self.mob = mob\n",
    "        self.email = email\n",
    "        \n",
    "    def set_name(self, name):\n",
    "        self.__name = name\n",
    "    \n",
    "    def get_name(self, name):\n",
    "        return self.__name\n",
    "    \n",
    "c1 = contact('Arun', '9874563210', 'arun@gmail.com')\n",
    "c1.set_name('Rajkumar')"
   ]
  },
  {
   "cell_type": "code",
   "execution_count": 7,
   "metadata": {},
   "outputs": [
    {
     "data": {
      "text/plain": [
       "'Rajkumar'"
      ]
     },
     "execution_count": 7,
     "metadata": {},
     "output_type": "execute_result"
    }
   ],
   "source": [
    "c1._contact__name"
   ]
  },
  {
   "cell_type": "code",
   "execution_count": 3,
   "metadata": {},
   "outputs": [],
   "source": [
    "class Employee:\n",
    "    def set_name(self, name, emp_id, emp_sal):\n",
    "        self.name = name\n",
    "        self.emp_id = emp_id\n",
    "        self.emp_sal = emp_sal\n",
    "        \n",
    "    def get_name(self, name, emp_id, emp_sal):\n",
    "        return self.name, self.emp_id, self.emp_sal\n",
    "    \n"
   ]
  },
  {
   "cell_type": "markdown",
   "metadata": {},
   "source": [
    "## Inheritance"
   ]
  },
  {
   "cell_type": "code",
   "execution_count": 12,
   "metadata": {},
   "outputs": [
    {
     "name": "stdout",
     "output_type": "stream",
     "text": [
      "Constructor method of A\n"
     ]
    }
   ],
   "source": [
    "class A:\n",
    "    def __init__(self):\n",
    "        print('Constructor method of A')\n",
    "    \n",
    "class B(A):\n",
    "    pass\n",
    "\n",
    "b1 = B()"
   ]
  },
  {
   "cell_type": "code",
   "execution_count": 16,
   "metadata": {},
   "outputs": [
    {
     "name": "stdout",
     "output_type": "stream",
     "text": [
      "Constructor method of B\n"
     ]
    }
   ],
   "source": [
    "class A:\n",
    "    def __init__(self):\n",
    "        print('Constructor method of A')\n",
    "    \n",
    "class B(A):\n",
    "    def __init__(self):\n",
    "        print('Constructor method of B')\n",
    "        \n",
    "b1 = B()"
   ]
  },
  {
   "cell_type": "markdown",
   "metadata": {},
   "source": [
    "### Super Method"
   ]
  },
  {
   "cell_type": "code",
   "execution_count": 18,
   "metadata": {},
   "outputs": [
    {
     "name": "stdout",
     "output_type": "stream",
     "text": [
      "Constructor method of B\n",
      "Constructor method of A\n"
     ]
    }
   ],
   "source": [
    "class A:\n",
    "    def __init__(self):\n",
    "        print('Constructor method of A')\n",
    "    \n",
    "class B(A):\n",
    "    def __init__(self):\n",
    "        print('Constructor method of B')\n",
    "        super().__init__()              # Super Method will call the Parent class & initiate it\n",
    "        \n",
    "b1 = B()"
   ]
  },
  {
   "cell_type": "markdown",
   "metadata": {},
   "source": [
    "### Multiple Inheritance"
   ]
  },
  {
   "cell_type": "code",
   "execution_count": 19,
   "metadata": {},
   "outputs": [
    {
     "name": "stdout",
     "output_type": "stream",
     "text": [
      "Constructor method of C\n"
     ]
    }
   ],
   "source": [
    "class A:\n",
    "    def __init__(self):\n",
    "        print('Constructor method of A')\n",
    "    \n",
    "class B():\n",
    "    def __init__(self):\n",
    "        print('Constructor method of B')\n",
    "        \n",
    "class C(A, B):\n",
    "    def __init__(self):\n",
    "        print('Constructor method of C')\n",
    "        \n",
    "C1 = C()"
   ]
  },
  {
   "cell_type": "code",
   "execution_count": 20,
   "metadata": {},
   "outputs": [
    {
     "name": "stdout",
     "output_type": "stream",
     "text": [
      "Constructor method of C\n",
      "Constructor method of A\n"
     ]
    }
   ],
   "source": [
    "class A:\n",
    "    def __init__(self):\n",
    "        print('Constructor method of A')\n",
    "    \n",
    "class B():\n",
    "    def __init__(self):\n",
    "        print('Constructor method of B')\n",
    "        \n",
    "        \n",
    "class C(A, B):\n",
    "    def __init__(self):\n",
    "        print('Constructor method of C')\n",
    "        super().__init__()\n",
    "        \n",
    "C1 = C()"
   ]
  },
  {
   "cell_type": "code",
   "execution_count": 24,
   "metadata": {},
   "outputs": [
    {
     "name": "stdout",
     "output_type": "stream",
     "text": [
      "Constructor method of C\n",
      "Constructor method of B\n",
      "Constructor method of C\n",
      "Constructor method of B\n"
     ]
    }
   ],
   "source": [
    "class A:\n",
    "    def __init__(self):\n",
    "        print('Constructor method of A')\n",
    "    \n",
    "class B():\n",
    "    def __init__(self):\n",
    "        print('Constructor method of B')\n",
    "        super().__init__()\n",
    "        \n",
    "class C(B, C):\n",
    "    def __init__(self):\n",
    "        print('Constructor method of C')\n",
    "        super().__init__()\n",
    "        \n",
    "C1 = C()"
   ]
  },
  {
   "cell_type": "markdown",
   "metadata": {},
   "source": [
    "### Classes Practices"
   ]
  },
  {
   "cell_type": "code",
   "execution_count": 3,
   "metadata": {},
   "outputs": [],
   "source": [
    "class Person():\n",
    "    pass\n",
    "\n",
    "viki = Person()\n",
    "ju = Person()"
   ]
  },
  {
   "cell_type": "code",
   "execution_count": 4,
   "metadata": {},
   "outputs": [
    {
     "name": "stdout",
     "output_type": "stream",
     "text": [
      "<__main__.Person object at 0x0000026B358DCA48>\n"
     ]
    }
   ],
   "source": [
    "print(viki)"
   ]
  },
  {
   "cell_type": "code",
   "execution_count": 13,
   "metadata": {},
   "outputs": [
    {
     "name": "stdout",
     "output_type": "stream",
     "text": [
      "A new guitar is being created as <__main__.Guitar object at 0x0000026B369D4A88>\n",
      "A new guitar is being created as <__main__.Guitar object at 0x0000026B369DB248>\n"
     ]
    }
   ],
   "source": [
    "class Guitar():\n",
    "    def __init__(self):\n",
    "        print(f\"A new guitar is being created as {self}\")\n",
    "        \n",
    "acoustic = Guitar()\n",
    "electric = Guitar()"
   ]
  },
  {
   "cell_type": "code",
   "execution_count": 18,
   "metadata": {},
   "outputs": [
    {
     "name": "stdout",
     "output_type": "stream",
     "text": [
      "Mahagony\n",
      "Sound Viking 3000\n"
     ]
    }
   ],
   "source": [
    "# This is not advisable\n",
    "\n",
    "acoustic.wood = \"Mahagony\"\n",
    "acoustic.strings = 6\n",
    "acoustic.year = 1990\n",
    "\n",
    "electric.nickname = \"Sound Viking 3000\"\n",
    "\n",
    "print(acoustic.wood)\n",
    "print(electric.nickname)"
   ]
  },
  {
   "cell_type": "code",
   "execution_count": 24,
   "metadata": {},
   "outputs": [
    {
     "name": "stdout",
     "output_type": "stream",
     "text": [
      "7\n",
      "1990\n"
     ]
    }
   ],
   "source": [
    "class Guitar():\n",
    "    def __init__(self, wood, strings, year):\n",
    "        self.wood = wood\n",
    "        self.strings = strings\n",
    "        self.year = year\n",
    "                \n",
    "acoustic = Guitar(\"Alder\", 7, 1999)\n",
    "electric = Guitar(\"Teak\", 6, 1990)\n",
    "\n",
    "print(acoustic.strings)\n",
    "print(electric.year)"
   ]
  },
  {
   "cell_type": "code",
   "execution_count": 29,
   "metadata": {},
   "outputs": [
    {
     "name": "stdout",
     "output_type": "stream",
     "text": [
      "14.99\n",
      "14.99\n"
     ]
    }
   ],
   "source": [
    "# Default values for object attributes\n",
    "\n",
    "class Book():\n",
    "    def __init__(self, title, author):\n",
    "        self.title = title\n",
    "        self.author = author\n",
    "        self.price = 14.99        \n",
    "\n",
    "animal_farm = Book(\"Animal Farm\", \"George Mallur\")\n",
    "good_bad = Book(\"Book of good things\", \"Clarias Johann\")\n",
    "\n",
    "print(animal_farm.price)\n",
    "print(good_bad.price)"
   ]
  },
  {
   "cell_type": "code",
   "execution_count": 34,
   "metadata": {},
   "outputs": [
    {
     "name": "stdout",
     "output_type": "stream",
     "text": [
      "14.99\n",
      "21.49\n"
     ]
    }
   ],
   "source": [
    "# Flexible values for attributes\n",
    "# for eg: the price of 90% of books are default values while remaining are different\n",
    "\n",
    "class Book():\n",
    "    def __init__(self, title, author, price = 14.99):\n",
    "        self.title = title\n",
    "        self.author = author\n",
    "        self.price = price        \n",
    "\n",
    "animal_farm = Book(\"Animal Farm\", \"George Mallur\")\n",
    "good_bad = Book(\"Book of good things\", \"Clarias Johann\")\n",
    "unstappable = Book(\"Unstoppable\", \"Taylor Harris\", 21.49)\n",
    "\n",
    "print(animal_farm.price)\n",
    "print(unstappable.price)"
   ]
  },
  {
   "cell_type": "markdown",
   "metadata": {},
   "source": [
    "### Instance methods\n",
    "A function that belongs to an object"
   ]
  },
  {
   "cell_type": "code",
   "execution_count": 54,
   "metadata": {},
   "outputs": [
    {
     "name": "stdout",
     "output_type": "stream",
     "text": [
      "Roarrrr\n",
      "\n",
      "I am a charmender. I do have Fire\n",
      "\n",
      "My remaining health is 20\n"
     ]
    }
   ],
   "source": [
    "class Pokemon():\n",
    "    def __init__(self, name, specialty, health = 100):\n",
    "        self.name = name\n",
    "        self.specialty = specialty\n",
    "        self.health = health\n",
    "        \n",
    "    def roar(self):\n",
    "        print(\"Roarrrr\")\n",
    "        \n",
    "    def describe(self):\n",
    "        print(f\"I am a {self.name}. I do have {self.specialty}\")\n",
    "        \n",
    "    def take_damage(self, amount):\n",
    "        self.health = self.health - amount\n",
    "        print(f\"My remaining health is {self.health}\")\n",
    "\n",
    "squirtle = Pokemon(\"Squirtle\", \"Water\")\n",
    "charmender = Pokemon(name = \"charmender\", specialty=\"Fire\", health=110)\n",
    "\n",
    "squirtle.roar()\n",
    "print()\n",
    "charmender.describe()\n",
    "print()\n",
    "squirtle.take_damage(80)"
   ]
  },
  {
   "cell_type": "markdown",
   "metadata": {},
   "source": [
    "### Protected Attributes (Encapsulation)"
   ]
  },
  {
   "cell_type": "code",
   "execution_count": 65,
   "metadata": {},
   "outputs": [
    {
     "data": {
      "text/plain": [
       "11.0"
      ]
     },
     "execution_count": 65,
     "metadata": {},
     "output_type": "execute_result"
    }
   ],
   "source": [
    "class SmartPhone():\n",
    "    def __init__(self):\n",
    "        self._company = \"Apple\"\n",
    "        self._firmware = 10.0\n",
    "        \n",
    "    def get_os_version(self):\n",
    "        self._firmware += 1\n",
    "        return self._firmware\n",
    "        \n",
    "iPhone = SmartPhone()\n",
    "\n",
    "iPhone.get_os_version()"
   ]
  },
  {
   "cell_type": "code",
   "execution_count": 71,
   "metadata": {},
   "outputs": [],
   "source": [
    "class Book():\n",
    "    def __init__(self, author, publisher, page_count):\n",
    "        self._author = author\n",
    "        self._publisher = publisher\n",
    "        self.page_count = page_count\n",
    "        \n",
    "    def copyright(self):\n",
    "        return f\"Copyright {self._author}, {self._publisher}\"\n",
    "        \n",
    "    def rip_in_half(self):\n",
    "        if self.page_count > 1:\n",
    "            page_count = page_count/2\n",
    "        else:\n",
    "            page_count = 0"
   ]
  },
  {
   "cell_type": "markdown",
   "metadata": {},
   "source": [
    "### Getter & Setter Methods"
   ]
  },
  {
   "cell_type": "code",
   "execution_count": 78,
   "metadata": {},
   "outputs": [
    {
     "name": "stdout",
     "output_type": "stream",
     "text": [
      "6.2\n"
     ]
    }
   ],
   "source": [
    "class Height():\n",
    "    def __init__(self, feet):\n",
    "        self._inches = feet * 12\n",
    "        \n",
    "    def _get_feet(self):\n",
    "        return self._inches/12\n",
    "    \n",
    "    def _set_feet(self):\n",
    "        if feet >= 0:\n",
    "            self._inches = feet * 12\n",
    "            \n",
    "    feet = property(_get_feet, _set_feet)\n",
    "    \n",
    "harris = Height(6.2)\n",
    "print(harris.feet)"
   ]
  },
  {
   "cell_type": "code",
   "execution_count": 80,
   "metadata": {},
   "outputs": [
    {
     "name": "stdout",
     "output_type": "stream",
     "text": [
      "12000.0\n"
     ]
    }
   ],
   "source": [
    "# alternate method for getter & setter method using decorator\n",
    "\n",
    "class Currency():\n",
    "    def __init__(self, dollars):\n",
    "        self._cents = dollars * 100\n",
    "        \n",
    "    @property\n",
    "    def dollars(self):\n",
    "        return self._cents/100\n",
    "    \n",
    "    @dollars.setter\n",
    "    def dollars(self, dollars):\n",
    "        if dollar >= 0:\n",
    "            self._cents = dollars * 100\n",
    "        \n",
    "bank_acc = Currency(12000)\n",
    "print(bank_acc.dollars)"
   ]
  },
  {
   "cell_type": "code",
   "execution_count": 87,
   "metadata": {},
   "outputs": [
    {
     "name": "stdout",
     "output_type": "stream",
     "text": [
      "0.875\n"
     ]
    }
   ],
   "source": [
    "# Declare a PizzaPie class that accepts a total_slices parameter. \n",
    "# In the instantiation process for an object, assign the parameter to an \n",
    "# attribute with the same name. \n",
    "\n",
    "# A PizzaPie object should also be initialized with a _slices_eaten \n",
    "# protected attribute set to 0.\n",
    "\n",
    "# Define a slices_eaten property. \n",
    "# The getter method should retrieve the value of the _slices_eaten attribute. \n",
    "# The setter method should set a new value for the _slices_eaten attribute\n",
    "# but only if the argument is less than total_slices.\n",
    "\n",
    "# Define a percentage property that calculates how much of the pie has been eaten \n",
    "# (the number of slices eaten divided by the total slices available). \n",
    "# The percentage property should be read-only.\n",
    "\n",
    "class PizzaPie():\n",
    "    def __init__(self, total_slices):\n",
    "        self._slices_eaten = 0\n",
    "        self.total_slices = total_slices\n",
    "        \n",
    "    @property\n",
    "    def slices_eaten(self):\n",
    "        return self._slices_eaten\n",
    "    \n",
    "    @slices_eaten.setter\n",
    "    def slices_eaten(self, slices_eaten):\n",
    "        if slices_eaten <= self.total_slices:\n",
    "            self._slices_eaten = slices_eaten\n",
    "            \n",
    "    @property\n",
    "    def percentage(self):\n",
    "        return self._slices_eaten/ self.total_slices\n",
    "    \n",
    "pp = PizzaPie(8)\n",
    "\n",
    "pp.slices_eaten = 7\n",
    "print(pp.percentage)"
   ]
  },
  {
   "cell_type": "code",
   "execution_count": 85,
   "metadata": {},
   "outputs": [
    {
     "name": "stdout",
     "output_type": "stream",
     "text": [
      "0.25\n",
      "0.5\n",
      "0.5\n"
     ]
    }
   ],
   "source": [
    "cheese = PizzaPie(8)\n",
    "cheese.slices_eaten = 2\n",
    "print(cheese.percentage) # 0.25\n",
    "#\n",
    "cheese.slices_eaten = 4\n",
    "print(cheese.percentage) # 0.5\n",
    "#\n",
    "cheese.slices_eaten = 10 # _slices_eaten should not change because there's only 8 slices in pie\n",
    "print(cheese.percentage) # 0.5\n",
    "#\n",
    "# ERROR - AttributeError: can't set attribute\n",
    "# cheese.percentage = 0.50"
   ]
  },
  {
   "cell_type": "markdown",
   "metadata": {},
   "source": [
    "### Getattr & Setattr"
   ]
  },
  {
   "cell_type": "code",
   "execution_count": 94,
   "metadata": {},
   "outputs": [
    {
     "name": "stdout",
     "output_type": "stream",
     "text": [
      "11\n",
      "\n",
      "bbq chicken\n",
      "11\n",
      "Unknown\n",
      "Unknown\n"
     ]
    }
   ],
   "source": [
    "stats = {\n",
    "        \"name\" : \"bbq chicken\",\n",
    "        \"price\" : \"665\",\n",
    "        \"size\" : 11,\n",
    "        \"ingredients\" : \"Onion, chicken bbq, sausage, cheese\"\n",
    "}\n",
    "\n",
    "class Pizza():\n",
    "    def __init__(self, stats):\n",
    "        for key, value in stats.items():\n",
    "            setattr(self, key, value)\n",
    "            \n",
    "bbq = Pizza(stats)\n",
    "print(bbq.size)\n",
    "print()\n",
    "\n",
    "for attr in [\"name\", \"size\", \"diameter\", \"brand\"]:\n",
    "    print(getattr(bbq, attr, \"Unknown\"))\n"
   ]
  },
  {
   "cell_type": "markdown",
   "metadata": {},
   "source": [
    "### hasattr & deletattr"
   ]
  },
  {
   "cell_type": "code",
   "execution_count": 96,
   "metadata": {},
   "outputs": [
    {
     "name": "stdout",
     "output_type": "stream",
     "text": [
      "11\n"
     ]
    }
   ],
   "source": [
    "stats = {\n",
    "        \"name\" : \"bbq chicken\",\n",
    "        \"price\" : \"665\",\n",
    "        \"size\" : 11,\n",
    "        \"ingredients\" : \"Onion, chicken bbq, sausage, cheese\"\n",
    "}\n",
    "\n",
    "class Pizza():\n",
    "    def __init__(self, stats):\n",
    "        for key, value in stats.items():\n",
    "            setattr(self, key, value)\n",
    "            \n",
    "bbq = Pizza(stats)\n",
    "\n",
    "print(bbq.size)\n",
    "stats_to_delete = [\"size\", \"price\", \"diameter\", \"ingredients\"]\n",
    "\n",
    "for attr in stats_to_delete:\n",
    "    if hasattr(bbq, attr):\n",
    "        delattr(bbq, attr)"
   ]
  },
  {
   "cell_type": "markdown",
   "metadata": {},
   "source": [
    "### Class Method"
   ]
  },
  {
   "cell_type": "code",
   "execution_count": 103,
   "metadata": {},
   "outputs": [
    {
     "name": "stdout",
     "output_type": "stream",
     "text": [
      "1\n"
     ]
    }
   ],
   "source": [
    "class meal():\n",
    "    def __init__(self, fish, chicken, rice, curd, paneer):\n",
    "        self.fish = fish\n",
    "        self.chicken = chicken\n",
    "        self.rice = rice\n",
    "        self.curd = curd\n",
    "        self.paneer = paneer\n",
    "    \n",
    "    @classmethod\n",
    "    def perfect_meal(cls):\n",
    "        return cls(fish = 1, chicken = 0, rice = 1, curd = 1, paneer = 1)\n",
    "    \n",
    "    @classmethod\n",
    "    def good_meal(cls):\n",
    "        return cls(fish = 1, chicken = 1, rice = 1, curd = 0, paneer = 1)\n",
    "    \n",
    "#person1 = meal.good_meal()\n",
    "person2 = meal.perfect_meal()\n",
    "print(person2.fish)"
   ]
  },
  {
   "cell_type": "markdown",
   "metadata": {},
   "source": [
    "### Magic Methods"
   ]
  },
  {
   "cell_type": "code",
   "execution_count": 4,
   "metadata": {},
   "outputs": [
    {
     "name": "stdout",
     "output_type": "stream",
     "text": [
      "7.7\n",
      "7.7\n"
     ]
    }
   ],
   "source": [
    "print(3.3 + 4.4)\n",
    "# or\n",
    "print(3.3.__add__(4.4))"
   ]
  },
  {
   "cell_type": "code",
   "execution_count": 19,
   "metadata": {},
   "outputs": [],
   "source": [
    "# Part A: Instantiation\n",
    "\n",
    "# Define a BusTrip class that is initialized with a destination, a bus company, and a price for the trip. \n",
    "# Preserve the arguments as attributes on the object. The choice of whether to use protected attributes is up to you.\n",
    "\n",
    "class BusTrip():\n",
    "    def __init__(self, destination, company, price):\n",
    "        self._destination = destination\n",
    "        self._company = company\n",
    "        self._price = price\n",
    "        \n",
    "# Part B: String Representation\n",
    "\n",
    "# The string representation of a BusTrip object must be a string in the form of: \"You paid 24.99 to Greyhound to go to Boston.\"\"\n",
    "# In this example, “Boston” is the destination, “Greyhound” is the bus company, and 24.99 is the price.\n",
    "# These are all fed in as arguments when a BusTrip object is initialized.\n",
    "\n",
    "    def __str__(self):\n",
    "        return f\"You paid {self._price} to {self._company} to go to {self._destination}.\"\n",
    "\n",
    "# Part C: Equality\n",
    "\n",
    "# Implement equality logic between two different BusTrip objects.\n",
    "# Two BusTrips object are considered equal if:\n",
    "#   -- they have the same destination\n",
    "#   -- their price is within 3 dollars of each other\n",
    "# HINT: Use Python’s abs function to calculate the absolute value of a number.\n",
    "\n",
    "    def __eq__(self, company_2):\n",
    "        return self._destination == company_2._destination and abs((self._price) - (company_2._price)) <= 3"
   ]
  },
  {
   "cell_type": "code",
   "execution_count": 20,
   "metadata": {},
   "outputs": [
    {
     "name": "stdout",
     "output_type": "stream",
     "text": [
      "You paid 24.99 to Greyhound to go to Boston.\n",
      "False\n",
      "True\n",
      "False\n"
     ]
    }
   ],
   "source": [
    "# Sample Execution\n",
    "boston1 = BusTrip(destination = \"Boston\", company = \"Greyhound\", price = 24.99)\n",
    "boston2 = BusTrip(destination = \"Boston\", company = \"Megabus\", price = 22.99)\n",
    "boston3 = BusTrip(destination = \"Boston\", company = \"Megabus\", price = 49.99)\n",
    "philly  = BusTrip(destination = \"Philadelphia\", company = \"Peter Pan\", price = 12.99)\n",
    "\n",
    "print(boston1)            # You paid 24.99 to Greyhound to go to Boston.\n",
    "print(boston1 == philly)  # False - different destinations\n",
    "print(boston1 == boston2) # True - same destination and insignificant price difference\n",
    "print(boston1 == boston3) # False - large price difference"
   ]
  },
  {
   "cell_type": "markdown",
   "metadata": {},
   "source": [
    "### Named Tuple"
   ]
  },
  {
   "cell_type": "code",
   "execution_count": 5,
   "metadata": {},
   "outputs": [],
   "source": [
    "# Use the namedtuple function to create a GymExercise class whose instances\n",
    "# will have three attributes: name, weight, and reps.\n",
    "\n",
    "# Assign a squat variable to a GymExercise tuple object with \n",
    "# a name of “squat”, a weight of 265, and a rep count of 3.\n",
    "\n",
    "import collections\n",
    "\n",
    "GymExcercise = collections.namedtuple(\"GymExercise\", ['name', 'weight', 'reps'])\n",
    "\n",
    "squat = GymExcercise(\"squat\", 265, 3)\n",
    "\n",
    "# Assign a bench variable to a GymExercise tuple object with \n",
    "# a name of “benchpress”, a weight of 185, and a rep count of 5.\n",
    "\n",
    "bench = GymExcercise(\"benchpress\", 185, 5)"
   ]
  },
  {
   "cell_type": "markdown",
   "metadata": {},
   "source": [
    "### Inheritance"
   ]
  },
  {
   "cell_type": "code",
   "execution_count": 9,
   "metadata": {},
   "outputs": [
    {
     "name": "stdout",
     "output_type": "stream",
     "text": [
      "I am the owner : Viki\n"
     ]
    }
   ],
   "source": [
    "# Subclass\n",
    "\n",
    "class Store():\n",
    "    def __init__(self):\n",
    "        self.owner = \"Viki\"\n",
    "        \n",
    "    def exclaim(self):\n",
    "        return f\"I am the owner : {self.owner}\"\n",
    "    \n",
    "class CoffeeShop(Store):\n",
    "    pass\n",
    "\n",
    "Starbucks = CoffeeShop()\n",
    "\n",
    "print(Starbucks.exclaim())"
   ]
  },
  {
   "cell_type": "code",
   "execution_count": 17,
   "metadata": {},
   "outputs": [
    {
     "name": "stdout",
     "output_type": "stream",
     "text": [
      "A-B-C\n",
      "Teaches the class\n",
      "\n",
      "teaches the college students\n",
      "Teaches the class\n",
      "A-B-C-D-E-F\n"
     ]
    }
   ],
   "source": [
    "# Override an inherited Method on subclass\n",
    "\n",
    "class Teacher():\n",
    "    def teach_class(self):\n",
    "        print(\"Teaches the class\")\n",
    "        \n",
    "    def grade_tests(self):\n",
    "        print(\"A-B-C\")\n",
    "        \n",
    "class Professor(Teacher):\n",
    "    def College_lucture(self):\n",
    "        print(\"teaches the college students\")\n",
    "        \n",
    "    def grade_tests(self):\n",
    "        print(\"A-B-C-D-E-F\")\n",
    "        \n",
    "t = Teacher()\n",
    "p = Professor()\n",
    "\n",
    "t.grade_tests()\n",
    "t.teach_class()\n",
    "print()\n",
    "p.College_lucture()\n",
    "p.teach_class()\n",
    "\n",
    "## Overrides the Superclass method\n",
    "p.grade_tests()"
   ]
  },
  {
   "cell_type": "markdown",
   "metadata": {},
   "source": [
    "### Super Function"
   ]
  },
  {
   "cell_type": "code",
   "execution_count": 43,
   "metadata": {},
   "outputs": [
    {
     "name": "stdout",
     "output_type": "stream",
     "text": [
      "Jimm eats food\n"
     ]
    }
   ],
   "source": [
    "class Animal():\n",
    "    def __init__(self, name):\n",
    "        self.name = name\n",
    "    \n",
    "    def eat(self, food):\n",
    "        return f\"{self.name} eats {food}\"\n",
    "    \n",
    "class Dog(Animal):\n",
    "    pass\n",
    "\n",
    "jimmy = Dog(\"Jimm\")\n",
    "print(jimmy.eat(\"food\"))"
   ]
  },
  {
   "cell_type": "code",
   "execution_count": 50,
   "metadata": {},
   "outputs": [
    {
     "data": {
      "text/plain": [
       "4"
      ]
     },
     "execution_count": 50,
     "metadata": {},
     "output_type": "execute_result"
    }
   ],
   "source": [
    "class Animal():\n",
    "    def __init__(self, name, age):\n",
    "        self.first_name = name\n",
    "        self.age = age\n",
    "        \n",
    "    def eat(self, food):\n",
    "        return f'{self.first_name} eats {food}'\n",
    "    \n",
    "class Dog(Animal):\n",
    "    def __init__(self,name, age, breed):\n",
    "        super().__init__(name, age)\n",
    "        self.breed = breed\n",
    "        \n",
    "watson = Dog(\"Watson\", 4, \"Labredor\")\n",
    "watson.age"
   ]
  },
  {
   "cell_type": "code",
   "execution_count": null,
   "metadata": {},
   "outputs": [],
   "source": [
    "# Declare a Musician class that accepts a name argument in its initialization.\n",
    "# The initialization should assign a name argument to a name attribute. \n",
    "# In addition, each Musician object should have an \"albums\" attribute \n",
    "# that begins as an empty list.\n",
    "# Define a release_album instance method on a Musician that accepts a title (string). \n",
    "# It should append the string to the end of the list held by the\n",
    "# albums attribute (see examples below).\n",
    "#\n",
    "# Declare a Drummer subclass than inherits from the Musician superclass. \n",
    "# In addition to a name, a drummer should also have a stamina attribute \n",
    "# represented by an integer. \n",
    "# The subclass should invoke the Musician superclass’s initialization procedure\n",
    "# and pass it the drummer’s name.\n",
    "# It should also set the stamina attribute in its own initialization process."
   ]
  },
  {
   "cell_type": "code",
   "execution_count": 53,
   "metadata": {},
   "outputs": [],
   "source": [
    "class Musician():\n",
    "    def __init__(self, name):\n",
    "        self.name = name\n",
    "        self.albums = []\n",
    "        \n",
    "    def release_album(self, title):\n",
    "        return self.albums.append(title)\n",
    "    \n",
    "class Drummer(Musician):\n",
    "    def __init__(self, name, stamina):\n",
    "        super().__init__(name)\n",
    "        self.stamina = stamina"
   ]
  },
  {
   "cell_type": "code",
   "execution_count": 60,
   "metadata": {},
   "outputs": [
    {
     "name": "stdout",
     "output_type": "stream",
     "text": [
      "Lars\n",
      "2\n",
      "[]\n",
      "['Ride the Lightning']\n",
      "['Ride the Lightning', 'Master of Puppets']\n"
     ]
    }
   ],
   "source": [
    "# EXAMPLE:\n",
    "lars = Drummer(name = \"Lars\", stamina = 2)\n",
    "print(lars.name)   # \"Lars\"\n",
    "print(lars.stamina) # 2\n",
    "print(lars.albums) # []\n",
    "#\n",
    "lars.release_album(\"Ride the Lightning\")\n",
    "print(lars.albums) # [\"Ride the Lightning\"]\n",
    "#\n",
    "lars.release_album(\"Master of Puppets\")\n",
    "print(lars.albums)  # [\"Ride the Lightning\", 'Master of Puppets']"
   ]
  },
  {
   "cell_type": "code",
   "execution_count": null,
   "metadata": {},
   "outputs": [],
   "source": []
  },
  {
   "cell_type": "code",
   "execution_count": null,
   "metadata": {},
   "outputs": [],
   "source": []
  },
  {
   "cell_type": "code",
   "execution_count": null,
   "metadata": {},
   "outputs": [],
   "source": []
  },
  {
   "cell_type": "code",
   "execution_count": null,
   "metadata": {},
   "outputs": [],
   "source": []
  },
  {
   "cell_type": "code",
   "execution_count": null,
   "metadata": {},
   "outputs": [],
   "source": []
  },
  {
   "cell_type": "code",
   "execution_count": null,
   "metadata": {},
   "outputs": [],
   "source": []
  },
  {
   "cell_type": "code",
   "execution_count": null,
   "metadata": {},
   "outputs": [],
   "source": []
  },
  {
   "cell_type": "code",
   "execution_count": null,
   "metadata": {},
   "outputs": [],
   "source": []
  },
  {
   "cell_type": "code",
   "execution_count": null,
   "metadata": {},
   "outputs": [],
   "source": []
  },
  {
   "cell_type": "code",
   "execution_count": null,
   "metadata": {},
   "outputs": [],
   "source": []
  },
  {
   "cell_type": "code",
   "execution_count": null,
   "metadata": {},
   "outputs": [],
   "source": []
  },
  {
   "cell_type": "code",
   "execution_count": null,
   "metadata": {},
   "outputs": [],
   "source": []
  },
  {
   "cell_type": "code",
   "execution_count": null,
   "metadata": {},
   "outputs": [],
   "source": []
  },
  {
   "cell_type": "code",
   "execution_count": null,
   "metadata": {},
   "outputs": [],
   "source": []
  },
  {
   "cell_type": "code",
   "execution_count": null,
   "metadata": {},
   "outputs": [],
   "source": []
  },
  {
   "cell_type": "code",
   "execution_count": null,
   "metadata": {},
   "outputs": [],
   "source": []
  },
  {
   "cell_type": "code",
   "execution_count": null,
   "metadata": {},
   "outputs": [],
   "source": []
  },
  {
   "cell_type": "code",
   "execution_count": null,
   "metadata": {},
   "outputs": [],
   "source": []
  },
  {
   "cell_type": "code",
   "execution_count": null,
   "metadata": {},
   "outputs": [],
   "source": []
  },
  {
   "cell_type": "code",
   "execution_count": null,
   "metadata": {},
   "outputs": [],
   "source": []
  },
  {
   "cell_type": "code",
   "execution_count": null,
   "metadata": {},
   "outputs": [],
   "source": []
  },
  {
   "cell_type": "code",
   "execution_count": null,
   "metadata": {},
   "outputs": [],
   "source": []
  },
  {
   "cell_type": "code",
   "execution_count": null,
   "metadata": {},
   "outputs": [],
   "source": []
  },
  {
   "cell_type": "code",
   "execution_count": null,
   "metadata": {},
   "outputs": [],
   "source": []
  },
  {
   "cell_type": "code",
   "execution_count": null,
   "metadata": {},
   "outputs": [],
   "source": []
  },
  {
   "cell_type": "code",
   "execution_count": null,
   "metadata": {},
   "outputs": [],
   "source": []
  },
  {
   "cell_type": "code",
   "execution_count": null,
   "metadata": {},
   "outputs": [],
   "source": []
  },
  {
   "cell_type": "code",
   "execution_count": null,
   "metadata": {},
   "outputs": [],
   "source": []
  },
  {
   "cell_type": "code",
   "execution_count": null,
   "metadata": {},
   "outputs": [],
   "source": []
  },
  {
   "cell_type": "code",
   "execution_count": null,
   "metadata": {},
   "outputs": [],
   "source": []
  },
  {
   "cell_type": "code",
   "execution_count": null,
   "metadata": {},
   "outputs": [],
   "source": []
  },
  {
   "cell_type": "code",
   "execution_count": null,
   "metadata": {},
   "outputs": [],
   "source": []
  },
  {
   "cell_type": "code",
   "execution_count": null,
   "metadata": {},
   "outputs": [],
   "source": []
  },
  {
   "cell_type": "code",
   "execution_count": null,
   "metadata": {},
   "outputs": [],
   "source": []
  },
  {
   "cell_type": "code",
   "execution_count": null,
   "metadata": {},
   "outputs": [],
   "source": []
  },
  {
   "cell_type": "code",
   "execution_count": null,
   "metadata": {},
   "outputs": [],
   "source": []
  },
  {
   "cell_type": "code",
   "execution_count": null,
   "metadata": {},
   "outputs": [],
   "source": []
  },
  {
   "cell_type": "code",
   "execution_count": null,
   "metadata": {},
   "outputs": [],
   "source": []
  },
  {
   "cell_type": "code",
   "execution_count": null,
   "metadata": {},
   "outputs": [],
   "source": []
  },
  {
   "cell_type": "code",
   "execution_count": null,
   "metadata": {},
   "outputs": [],
   "source": []
  },
  {
   "cell_type": "code",
   "execution_count": null,
   "metadata": {},
   "outputs": [],
   "source": []
  },
  {
   "cell_type": "code",
   "execution_count": null,
   "metadata": {},
   "outputs": [],
   "source": []
  },
  {
   "cell_type": "code",
   "execution_count": null,
   "metadata": {},
   "outputs": [],
   "source": []
  },
  {
   "cell_type": "code",
   "execution_count": null,
   "metadata": {},
   "outputs": [],
   "source": []
  },
  {
   "cell_type": "code",
   "execution_count": null,
   "metadata": {},
   "outputs": [],
   "source": []
  },
  {
   "cell_type": "code",
   "execution_count": null,
   "metadata": {},
   "outputs": [],
   "source": []
  },
  {
   "cell_type": "code",
   "execution_count": null,
   "metadata": {},
   "outputs": [],
   "source": []
  },
  {
   "cell_type": "code",
   "execution_count": null,
   "metadata": {},
   "outputs": [],
   "source": []
  },
  {
   "cell_type": "code",
   "execution_count": null,
   "metadata": {},
   "outputs": [],
   "source": []
  },
  {
   "cell_type": "code",
   "execution_count": null,
   "metadata": {},
   "outputs": [],
   "source": []
  },
  {
   "cell_type": "code",
   "execution_count": null,
   "metadata": {},
   "outputs": [],
   "source": []
  },
  {
   "cell_type": "code",
   "execution_count": null,
   "metadata": {},
   "outputs": [],
   "source": []
  },
  {
   "cell_type": "code",
   "execution_count": null,
   "metadata": {},
   "outputs": [],
   "source": []
  },
  {
   "cell_type": "code",
   "execution_count": null,
   "metadata": {},
   "outputs": [],
   "source": []
  },
  {
   "cell_type": "code",
   "execution_count": null,
   "metadata": {},
   "outputs": [],
   "source": []
  },
  {
   "cell_type": "code",
   "execution_count": null,
   "metadata": {},
   "outputs": [],
   "source": []
  },
  {
   "cell_type": "code",
   "execution_count": null,
   "metadata": {},
   "outputs": [],
   "source": []
  },
  {
   "cell_type": "code",
   "execution_count": null,
   "metadata": {},
   "outputs": [],
   "source": []
  },
  {
   "cell_type": "code",
   "execution_count": null,
   "metadata": {},
   "outputs": [],
   "source": []
  },
  {
   "cell_type": "code",
   "execution_count": null,
   "metadata": {},
   "outputs": [],
   "source": []
  },
  {
   "cell_type": "code",
   "execution_count": null,
   "metadata": {},
   "outputs": [],
   "source": []
  },
  {
   "cell_type": "code",
   "execution_count": null,
   "metadata": {},
   "outputs": [],
   "source": []
  },
  {
   "cell_type": "code",
   "execution_count": null,
   "metadata": {},
   "outputs": [],
   "source": []
  }
 ],
 "metadata": {
  "kernelspec": {
   "display_name": "Python 3",
   "language": "python",
   "name": "python3"
  },
  "language_info": {
   "codemirror_mode": {
    "name": "ipython",
    "version": 3
   },
   "file_extension": ".py",
   "mimetype": "text/x-python",
   "name": "python",
   "nbconvert_exporter": "python",
   "pygments_lexer": "ipython3",
   "version": "3.7.6"
  }
 },
 "nbformat": 4,
 "nbformat_minor": 4
}
