{
 "cells": [
  {
   "cell_type": "code",
   "execution_count": 2,
   "metadata": {},
   "outputs": [],
   "source": [
    "class Human:\n",
    "    pass"
   ]
  },
  {
   "cell_type": "code",
   "execution_count": 3,
   "metadata": {},
   "outputs": [],
   "source": [
    "class student():\n",
    "    lst = ['CVA']\n",
    "    def __init__(self, st_name, st_id, st_city, st_std):\n",
    "        self.name = st_name\n",
    "        self.id = st_id\n",
    "        self.city = st_city\n",
    "        self.std = st_std"
   ]
  },
  {
   "cell_type": "code",
   "execution_count": 5,
   "metadata": {},
   "outputs": [],
   "source": [
    "st1 = student(st_name='Rithik', st_id='CV1', st_city='Trivandrum', st_std='X')\n",
    "st2 = student(st_name='Vedani', st_id='CV1', st_city='Kollam', st_std='X')\n",
    "st3 = student(st_name='Maracko', st_id='CV1', st_city='Trichur', st_std='X')"
   ]
  },
  {
   "cell_type": "code",
   "execution_count": 8,
   "metadata": {},
   "outputs": [],
   "source": [
    "st1.lst.append(['TCS'])"
   ]
  },
  {
   "cell_type": "code",
   "execution_count": 13,
   "metadata": {},
   "outputs": [
    {
     "name": "stdout",
     "output_type": "stream",
     "text": [
      "Trivandrum\n",
      "\n",
      "X\n",
      "\n",
      "Maracko\n"
     ]
    }
   ],
   "source": [
    "print(st1.city)\n",
    "print()\n",
    "print(st2.std)\n",
    "print()\n",
    "print(st3.name)"
   ]
  },
  {
   "cell_type": "code",
   "execution_count": 26,
   "metadata": {},
   "outputs": [],
   "source": [
    "class Contact():\n",
    "    lst = []\n",
    "    def __init__(self, name, mob, email):\n",
    "        self.name = name\n",
    "        self.mob = mob\n",
    "        self.email = email\n",
    "        Contact.lst.append(self)"
   ]
  },
  {
   "cell_type": "code",
   "execution_count": 27,
   "metadata": {},
   "outputs": [
    {
     "data": {
      "text/plain": [
       "[<__main__.Contact at 0x2e7e2e9e508>]"
      ]
     },
     "execution_count": 27,
     "metadata": {},
     "output_type": "execute_result"
    }
   ],
   "source": [
    "contact1 = Contact('Raj', '9809056421', 'raj@gmail.com')\n",
    "contact1.lst"
   ]
  },
  {
   "cell_type": "code",
   "execution_count": 9,
   "metadata": {},
   "outputs": [
    {
     "name": "stdout",
     "output_type": "stream",
     "text": [
      "9874563210\n",
      "mathews@gmail.com\n"
     ]
    }
   ],
   "source": [
    "class Contact:\n",
    "    contact_list = []\n",
    "    def __init__(self, name, mob, email):\n",
    "        self.name = name\n",
    "        self.mob = mob\n",
    "        self.email = email\n",
    "        self.contact_list.append(self)\n",
    "        \n",
    "    @classmethod\n",
    "    def contact_info(cls, name):\n",
    "        for i in cls.contact_list:\n",
    "            if i.name == name:\n",
    "                print(i.mob)\n",
    "                print(i.email)\n",
    "                \n",
    "c1 = Contact('Mathews', '9874563210', 'mathews@gmail.com')\n",
    "\n",
    "Contact.contact_info('Mathews')"
   ]
  },
  {
   "cell_type": "code",
   "execution_count": 5,
   "metadata": {},
   "outputs": [],
   "source": [
    "class contact():\n",
    "    def __init__(self, name, mob, email):\n",
    "        self.name = name\n",
    "        self.mob = mob\n",
    "        self.email = email\n",
    "        \n",
    "    def set_name(self, name):\n",
    "        self.__name = name\n",
    "    \n",
    "    def get_name(self, name):\n",
    "        return self.__name\n",
    "    \n",
    "c1 = contact('Arun', '9874563210', 'arun@gmail.com')\n",
    "c1.set_name('Rajkumar')"
   ]
  },
  {
   "cell_type": "code",
   "execution_count": 7,
   "metadata": {},
   "outputs": [
    {
     "data": {
      "text/plain": [
       "'Rajkumar'"
      ]
     },
     "execution_count": 7,
     "metadata": {},
     "output_type": "execute_result"
    }
   ],
   "source": [
    "c1._contact__name"
   ]
  },
  {
   "cell_type": "code",
   "execution_count": 3,
   "metadata": {},
   "outputs": [],
   "source": [
    "class Employee:\n",
    "    def set_name(self, name, emp_id, emp_sal):\n",
    "        self.name = name\n",
    "        self.emp_id = emp_id\n",
    "        self.emp_sal = emp_sal\n",
    "        \n",
    "    def get_name(self, name, emp_id, emp_sal):\n",
    "        return self.name, self.emp_id, self.emp_sal\n",
    "    \n"
   ]
  },
  {
   "cell_type": "markdown",
   "metadata": {},
   "source": [
    "## Inheritance"
   ]
  },
  {
   "cell_type": "code",
   "execution_count": 12,
   "metadata": {},
   "outputs": [
    {
     "name": "stdout",
     "output_type": "stream",
     "text": [
      "Constructor method of A\n"
     ]
    }
   ],
   "source": [
    "class A:\n",
    "    def __init__(self):\n",
    "        print('Constructor method of A')\n",
    "    \n",
    "class B(A):\n",
    "    pass\n",
    "\n",
    "b1 = B()"
   ]
  },
  {
   "cell_type": "code",
   "execution_count": 16,
   "metadata": {},
   "outputs": [
    {
     "name": "stdout",
     "output_type": "stream",
     "text": [
      "Constructor method of B\n"
     ]
    }
   ],
   "source": [
    "class A:\n",
    "    def __init__(self):\n",
    "        print('Constructor method of A')\n",
    "    \n",
    "class B(A):\n",
    "    def __init__(self):\n",
    "        print('Constructor method of B')\n",
    "        \n",
    "b1 = B()"
   ]
  },
  {
   "cell_type": "markdown",
   "metadata": {},
   "source": [
    "### Super Method"
   ]
  },
  {
   "cell_type": "code",
   "execution_count": 18,
   "metadata": {},
   "outputs": [
    {
     "name": "stdout",
     "output_type": "stream",
     "text": [
      "Constructor method of B\n",
      "Constructor method of A\n"
     ]
    }
   ],
   "source": [
    "class A:\n",
    "    def __init__(self):\n",
    "        print('Constructor method of A')\n",
    "    \n",
    "class B(A):\n",
    "    def __init__(self):\n",
    "        print('Constructor method of B')\n",
    "        super().__init__()              # Super Method will call the Parent class & initiate it\n",
    "        \n",
    "b1 = B()"
   ]
  },
  {
   "cell_type": "markdown",
   "metadata": {},
   "source": [
    "### Multiple Inheritance"
   ]
  },
  {
   "cell_type": "code",
   "execution_count": 19,
   "metadata": {},
   "outputs": [
    {
     "name": "stdout",
     "output_type": "stream",
     "text": [
      "Constructor method of C\n"
     ]
    }
   ],
   "source": [
    "class A:\n",
    "    def __init__(self):\n",
    "        print('Constructor method of A')\n",
    "    \n",
    "class B():\n",
    "    def __init__(self):\n",
    "        print('Constructor method of B')\n",
    "        \n",
    "class C(A, B):\n",
    "    def __init__(self):\n",
    "        print('Constructor method of C')\n",
    "        \n",
    "C1 = C()"
   ]
  },
  {
   "cell_type": "code",
   "execution_count": 20,
   "metadata": {},
   "outputs": [
    {
     "name": "stdout",
     "output_type": "stream",
     "text": [
      "Constructor method of C\n",
      "Constructor method of A\n"
     ]
    }
   ],
   "source": [
    "class A:\n",
    "    def __init__(self):\n",
    "        print('Constructor method of A')\n",
    "    \n",
    "class B():\n",
    "    def __init__(self):\n",
    "        print('Constructor method of B')\n",
    "        \n",
    "        \n",
    "class C(A, B):\n",
    "    def __init__(self):\n",
    "        print('Constructor method of C')\n",
    "        super().__init__()\n",
    "        \n",
    "C1 = C()"
   ]
  },
  {
   "cell_type": "code",
   "execution_count": 24,
   "metadata": {},
   "outputs": [
    {
     "name": "stdout",
     "output_type": "stream",
     "text": [
      "Constructor method of C\n",
      "Constructor method of B\n",
      "Constructor method of C\n",
      "Constructor method of B\n"
     ]
    }
   ],
   "source": [
    "class A:\n",
    "    def __init__(self):\n",
    "        print('Constructor method of A')\n",
    "    \n",
    "class B():\n",
    "    def __init__(self):\n",
    "        print('Constructor method of B')\n",
    "        super().__init__()\n",
    "        \n",
    "class C(B, C):\n",
    "    def __init__(self):\n",
    "        print('Constructor method of C')\n",
    "        super().__init__()\n",
    "        \n",
    "C1 = C()"
   ]
  },
  {
   "cell_type": "markdown",
   "metadata": {},
   "source": [
    "### Classes Practices"
   ]
  },
  {
   "cell_type": "code",
   "execution_count": 3,
   "metadata": {},
   "outputs": [],
   "source": [
    "class Person():\n",
    "    pass\n",
    "\n",
    "viki = Person()\n",
    "ju = Person()"
   ]
  },
  {
   "cell_type": "code",
   "execution_count": 4,
   "metadata": {},
   "outputs": [
    {
     "name": "stdout",
     "output_type": "stream",
     "text": [
      "<__main__.Person object at 0x0000026B358DCA48>\n"
     ]
    }
   ],
   "source": [
    "print(viki)"
   ]
  },
  {
   "cell_type": "code",
   "execution_count": 13,
   "metadata": {},
   "outputs": [
    {
     "name": "stdout",
     "output_type": "stream",
     "text": [
      "A new guitar is being created as <__main__.Guitar object at 0x0000026B369D4A88>\n",
      "A new guitar is being created as <__main__.Guitar object at 0x0000026B369DB248>\n"
     ]
    }
   ],
   "source": [
    "class Guitar():\n",
    "    def __init__(self):\n",
    "        print(f\"A new guitar is being created as {self}\")\n",
    "        \n",
    "acoustic = Guitar()\n",
    "electric = Guitar()"
   ]
  },
  {
   "cell_type": "code",
   "execution_count": 18,
   "metadata": {},
   "outputs": [
    {
     "name": "stdout",
     "output_type": "stream",
     "text": [
      "Mahagony\n",
      "Sound Viking 3000\n"
     ]
    }
   ],
   "source": [
    "# This is not advisable\n",
    "\n",
    "acoustic.wood = \"Mahagony\"\n",
    "acoustic.strings = 6\n",
    "acoustic.year = 1990\n",
    "\n",
    "electric.nickname = \"Sound Viking 3000\"\n",
    "\n",
    "print(acoustic.wood)\n",
    "print(electric.nickname)"
   ]
  },
  {
   "cell_type": "code",
   "execution_count": 24,
   "metadata": {},
   "outputs": [
    {
     "name": "stdout",
     "output_type": "stream",
     "text": [
      "7\n",
      "1990\n"
     ]
    }
   ],
   "source": [
    "class Guitar():\n",
    "    def __init__(self, wood, strings, year):\n",
    "        self.wood = wood\n",
    "        self.strings = strings\n",
    "        self.year = year\n",
    "                \n",
    "acoustic = Guitar(\"Alder\", 7, 1999)\n",
    "electric = Guitar(\"Teak\", 6, 1990)\n",
    "\n",
    "print(acoustic.strings)\n",
    "print(electric.year)"
   ]
  },
  {
   "cell_type": "code",
   "execution_count": 29,
   "metadata": {},
   "outputs": [
    {
     "name": "stdout",
     "output_type": "stream",
     "text": [
      "14.99\n",
      "14.99\n"
     ]
    }
   ],
   "source": [
    "# Default values for object attributes\n",
    "\n",
    "class Book():\n",
    "    def __init__(self, title, author):\n",
    "        self.title = title\n",
    "        self.author = author\n",
    "        self.price = 14.99        \n",
    "\n",
    "animal_farm = Book(\"Animal Farm\", \"George Mallur\")\n",
    "good_bad = Book(\"Book of good things\", \"Clarias Johann\")\n",
    "\n",
    "print(animal_farm.price)\n",
    "print(good_bad.price)"
   ]
  },
  {
   "cell_type": "code",
   "execution_count": 34,
   "metadata": {},
   "outputs": [
    {
     "name": "stdout",
     "output_type": "stream",
     "text": [
      "14.99\n",
      "21.49\n"
     ]
    }
   ],
   "source": [
    "# Flexible values for attributes\n",
    "# for eg: the price of 90% of books are default values while remaining are different\n",
    "\n",
    "class Book():\n",
    "    def __init__(self, title, author, price = 14.99):\n",
    "        self.title = title\n",
    "        self.author = author\n",
    "        self.price = price        \n",
    "\n",
    "animal_farm = Book(\"Animal Farm\", \"George Mallur\")\n",
    "good_bad = Book(\"Book of good things\", \"Clarias Johann\")\n",
    "unstappable = Book(\"Unstoppable\", \"Taylor Harris\", 21.49)\n",
    "\n",
    "print(animal_farm.price)\n",
    "print(unstappable.price)"
   ]
  },
  {
   "cell_type": "markdown",
   "metadata": {},
   "source": [
    "### Instance methods\n",
    "A function that belongs to an object"
   ]
  },
  {
   "cell_type": "code",
   "execution_count": 54,
   "metadata": {},
   "outputs": [
    {
     "name": "stdout",
     "output_type": "stream",
     "text": [
      "Roarrrr\n",
      "\n",
      "I am a charmender. I do have Fire\n",
      "\n",
      "My remaining health is 20\n"
     ]
    }
   ],
   "source": [
    "class Pokemon():\n",
    "    def __init__(self, name, specialty, health = 100):\n",
    "        self.name = name\n",
    "        self.specialty = specialty\n",
    "        self.health = health\n",
    "        \n",
    "    def roar(self):\n",
    "        print(\"Roarrrr\")\n",
    "        \n",
    "    def describe(self):\n",
    "        print(f\"I am a {self.name}. I do have {self.specialty}\")\n",
    "        \n",
    "    def take_damage(self, amount):\n",
    "        self.health = self.health - amount\n",
    "        print(f\"My remaining health is {self.health}\")\n",
    "\n",
    "squirtle = Pokemon(\"Squirtle\", \"Water\")\n",
    "charmender = Pokemon(name = \"charmender\", specialty=\"Fire\", health=110)\n",
    "\n",
    "squirtle.roar()\n",
    "print()\n",
    "charmender.describe()\n",
    "print()\n",
    "squirtle.take_damage(80)"
   ]
  },
  {
   "cell_type": "markdown",
   "metadata": {},
   "source": [
    "### Protected Attributes (Encapsulation)"
   ]
  },
  {
   "cell_type": "code",
   "execution_count": null,
   "metadata": {},
   "outputs": [],
   "source": []
  },
  {
   "cell_type": "code",
   "execution_count": null,
   "metadata": {},
   "outputs": [],
   "source": []
  },
  {
   "cell_type": "code",
   "execution_count": null,
   "metadata": {},
   "outputs": [],
   "source": []
  },
  {
   "cell_type": "code",
   "execution_count": null,
   "metadata": {},
   "outputs": [],
   "source": []
  },
  {
   "cell_type": "code",
   "execution_count": null,
   "metadata": {},
   "outputs": [],
   "source": []
  },
  {
   "cell_type": "code",
   "execution_count": null,
   "metadata": {},
   "outputs": [],
   "source": []
  },
  {
   "cell_type": "code",
   "execution_count": null,
   "metadata": {},
   "outputs": [],
   "source": []
  },
  {
   "cell_type": "code",
   "execution_count": null,
   "metadata": {},
   "outputs": [],
   "source": []
  },
  {
   "cell_type": "code",
   "execution_count": null,
   "metadata": {},
   "outputs": [],
   "source": []
  },
  {
   "cell_type": "code",
   "execution_count": null,
   "metadata": {},
   "outputs": [],
   "source": []
  },
  {
   "cell_type": "code",
   "execution_count": null,
   "metadata": {},
   "outputs": [],
   "source": []
  },
  {
   "cell_type": "code",
   "execution_count": null,
   "metadata": {},
   "outputs": [],
   "source": []
  },
  {
   "cell_type": "code",
   "execution_count": null,
   "metadata": {},
   "outputs": [],
   "source": []
  },
  {
   "cell_type": "code",
   "execution_count": null,
   "metadata": {},
   "outputs": [],
   "source": []
  },
  {
   "cell_type": "code",
   "execution_count": null,
   "metadata": {},
   "outputs": [],
   "source": []
  },
  {
   "cell_type": "code",
   "execution_count": null,
   "metadata": {},
   "outputs": [],
   "source": []
  },
  {
   "cell_type": "code",
   "execution_count": null,
   "metadata": {},
   "outputs": [],
   "source": []
  },
  {
   "cell_type": "code",
   "execution_count": null,
   "metadata": {},
   "outputs": [],
   "source": []
  },
  {
   "cell_type": "code",
   "execution_count": null,
   "metadata": {},
   "outputs": [],
   "source": []
  },
  {
   "cell_type": "code",
   "execution_count": null,
   "metadata": {},
   "outputs": [],
   "source": []
  }
 ],
 "metadata": {
  "kernelspec": {
   "display_name": "Python 3",
   "language": "python",
   "name": "python3"
  },
  "language_info": {
   "codemirror_mode": {
    "name": "ipython",
    "version": 3
   },
   "file_extension": ".py",
   "mimetype": "text/x-python",
   "name": "python",
   "nbconvert_exporter": "python",
   "pygments_lexer": "ipython3",
   "version": "3.7.6"
  }
 },
 "nbformat": 4,
 "nbformat_minor": 4
}
