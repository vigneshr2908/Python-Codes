{
 "cells": [
  {
   "cell_type": "markdown",
   "metadata": {},
   "source": [
    "### File Handling"
   ]
  },
  {
   "cell_type": "code",
   "execution_count": 7,
   "metadata": {},
   "outputs": [
    {
     "name": "stdout",
     "output_type": "stream",
     "text": [
      "The file has been created\n",
      " \n",
      "The earliest extant description of what is now often called a cupcake was in 1796, when a recipe for \"a light cake to bake in small cups\" was written in American Cookery by Amelia Simmons.[1][2] The earliest extant documentation of the term cupcake itself was in \"Seventy-five Receipts for Pastry, Cakes, and Sweetmeats\" in 1828 in Eliza Leslie's Receipts cookbook.[3][4]\n",
      "\n",
      "In the early 19th century, there were two different uses for the term cup cake or cupcake. In previous centuries, before muffin tins were widely available, the cakes were often baked in individual pottery cups, ramekins, or molds and took their name from the cups they were baked in. This is the use of the name that has remained, and the name of \"cupcake\" is now given to any small, round cake that is about the size of a teacup. While English fairy cakes vary in size more than American cupcake, they are traditionally smaller and are rarely topped with elaborate frosting.\n",
      "\n",
      "The other kind of \"cup cake\" referred to a cake whose ingredients were measured by volume, using a standard-sized cup, instead of being weighed. Recipes whose ingredients were measured using a standard-sized cup could also be baked in cups; however, they were more commonly baked in tins as layers or loaves. In later years, when the use of volume measurements was firmly established in home kitchens, these recipes became known as 1234 cakes or quarter cakes, so called because they are made up of four ingredients: one cup of butter, two cups of sugar, three cups of flour, and four eggs.[5][6] They are plain yellow cakes, somewhat less rich and less expensive than pound cake, due to using about half as much butter and eggs compared to pound cake.\n",
      "\n",
      "The names of these two major classes of cakes were intended to signal the method to the baker; \"cup cake\" uses a volume measurement, and \"pound cake\" uses a weight measurement.[5]\n"
     ]
    }
   ],
   "source": [
    "with open(\"cupcakes.txt\", \"r\") as cupcakes:\n",
    "    print('The file has been created')\n",
    "    print(\" \")\n",
    "    content = cupcakes.read()\n",
    "    print(content)\n"
   ]
  },
  {
   "cell_type": "code",
   "execution_count": 10,
   "metadata": {
    "collapsed": true
   },
   "outputs": [
    {
     "name": "stdout",
     "output_type": "stream",
     "text": [
      "What's the filenamecupcakes.txt\n",
      "The earliest extant description of what is now often called a cupcake was in 1796, when a recipe for \"a light cake to bake in small cups\" was written in American Cookery by Amelia Simmons.[1][2] The earliest extant documentation of the term cupcake itself was in \"Seventy-five Receipts for Pastry, Cakes, and Sweetmeats\" in 1828 in Eliza Leslie's Receipts cookbook.[3][4]\n",
      "\n",
      "In the early 19th century, there were two different uses for the term cup cake or cupcake. In previous centuries, before muffin tins were widely available, the cakes were often baked in individual pottery cups, ramekins, or molds and took their name from the cups they were baked in. This is the use of the name that has remained, and the name of \"cupcake\" is now given to any small, round cake that is about the size of a teacup. While English fairy cakes vary in size more than American cupcake, they are traditionally smaller and are rarely topped with elaborate frosting.\n",
      "\n",
      "The other kind of \"cup cake\" referred to a cake whose ingredients were measured by volume, using a standard-sized cup, instead of being weighed. Recipes whose ingredients were measured using a standard-sized cup could also be baked in cups; however, they were more commonly baked in tins as layers or loaves. In later years, when the use of volume measurements was firmly established in home kitchens, these recipes became known as 1234 cakes or quarter cakes, so called because they are made up of four ingredients: one cup of butter, two cups of sugar, three cups of flour, and four eggs.[5][6] They are plain yellow cakes, somewhat less rich and less expensive than pound cake, due to using about half as much butter and eggs compared to pound cake.\n",
      "\n",
      "The names of these two major classes of cakes were intended to signal the method to the baker; \"cup cake\" uses a volume measurement, and \"pound cake\" uses a weight measurement.[5]\n"
     ]
    }
   ],
   "source": [
    "filename = input(\"What's the filename\")\n",
    "with open(filename, \"r\") as new_file:\n",
    "    print(new_file.read())"
   ]
  },
  {
   "cell_type": "code",
   "execution_count": 12,
   "metadata": {},
   "outputs": [
    {
     "name": "stdout",
     "output_type": "stream",
     "text": [
      "The earliest extant description of what is now often called a cupcake was in 1796, when a recipe for \"a light cake to bake in small cups\" was written in American Cookery by Amelia Simmons.[1][2] The earliest extant documentation of the term cupcake itself was in \"Seventy-five Receipts for Pastry, Cakes, and Sweetmeats\" in 1828 in Eliza Leslie's Receipts cookbook.[3][4]\n",
      "\n",
      "In the early 19th century, there were two different uses for the term cup cake or cupcake. In previous centuries, before muffin tins were widely available, the cakes were often baked in individual pottery cups, ramekins, or molds and took their name from the cups they were baked in. This is the use of the name that has remained, and the name of \"cupcake\" is now given to any small, round cake that is about the size of a teacup. While English fairy cakes vary in size more than American cupcake, they are traditionally smaller and are rarely topped with elaborate frosting.\n",
      "\n",
      "The other kind of \"cup cake\" referred to a cake whose ingredients were measured by volume, using a standard-sized cup, instead of being weighed. Recipes whose ingredients were measured using a standard-sized cup could also be baked in cups; however, they were more commonly baked in tins as layers or loaves. In later years, when the use of volume measurements was firmly established in home kitchens, these recipes became known as 1234 cakes or quarter cakes, so called because they are made up of four ingredients: one cup of butter, two cups of sugar, three cups of flour, and four eggs.[5][6] They are plain yellow cakes, somewhat less rich and less expensive than pound cake, due to using about half as much butter and eggs compared to pound cake.\n",
      "\n",
      "The names of these two major classes of cakes were intended to signal the method to the baker; \"cup cake\" uses a volume measurement, and \"pound cake\" uses a weight measurement.[5]\n"
     ]
    }
   ],
   "source": [
    "with open(\"cupcakes.txt\") as file:\n",
    "    for line in file:\n",
    "        print(line.strip())"
   ]
  },
  {
   "cell_type": "code",
   "execution_count": 13,
   "metadata": {},
   "outputs": [],
   "source": [
    "filename = \"new_file.txt\"\n",
    "\n",
    "with open(filename, \"w\") as new_file:\n",
    "    new_file.write(\"Hello new\")"
   ]
  },
  {
   "cell_type": "code",
   "execution_count": 14,
   "metadata": {},
   "outputs": [],
   "source": [
    "with open(filename, \"a\") as new_file:\n",
    "    new_file.write(\"\\n My second line\")"
   ]
  },
  {
   "cell_type": "markdown",
   "metadata": {},
   "source": [
    "## Exception Handling"
   ]
  },
  {
   "cell_type": "code",
   "execution_count": 6,
   "metadata": {},
   "outputs": [
    {
     "data": {
      "text/plain": [
       "'ZeroDivsionError'"
      ]
     },
     "execution_count": 6,
     "metadata": {},
     "output_type": "execute_result"
    }
   ],
   "source": [
    "def dividefn(n):\n",
    "    try:\n",
    "        calc = 5/n\n",
    "    except:\n",
    "        calc = \"ZeroDivsionError\"\n",
    "    return calc\n",
    "\n",
    "dividefn(0)"
   ]
  },
  {
   "cell_type": "code",
   "execution_count": 13,
   "metadata": {},
   "outputs": [
    {
     "name": "stdout",
     "output_type": "stream",
     "text": [
      "0.3333333333333333\n",
      "Zerodivision error\n",
      "No inputs other than integars. unsupported operand type(s) for /: 'int' and 'str'\n"
     ]
    }
   ],
   "source": [
    "def dividefn(n):\n",
    "    try:\n",
    "        return 5/n\n",
    "    except ZeroDivisionError:\n",
    "        return f\"Zerodivision error\"\n",
    "    except TypeError as te:\n",
    "        return f\"No inputs other than integars. {te}\"\n",
    "\n",
    "print(dividefn(15))\n",
    "print(dividefn(0))\n",
    "print(dividefn(\"nothing\"))"
   ]
  },
  {
   "cell_type": "code",
   "execution_count": 14,
   "metadata": {},
   "outputs": [
    {
     "name": "stdout",
     "output_type": "stream",
     "text": [
      "0.3333333333333333\n",
      "No inputs other than integars. division by zero\n",
      "No inputs other than integars. unsupported operand type(s) for /: 'int' and 'str'\n"
     ]
    }
   ],
   "source": [
    "def dividefn(n):\n",
    "    try:\n",
    "        return 5/n\n",
    "    except (ZeroDivisionError, TypeError) as e:\n",
    "        return f\"No inputs other than integars. {e}\"\n",
    "\n",
    "print(dividefn(15))\n",
    "print(dividefn(0))\n",
    "print(dividefn(\"nothing\"))"
   ]
  },
  {
   "cell_type": "code",
   "execution_count": 18,
   "metadata": {},
   "outputs": [
    {
     "name": "stdout",
     "output_type": "stream",
     "text": [
      "10\n",
      "Caught on ValueError, One or more number is negative value\n",
      "Caught on ValueError, One or more number is negative value\n"
     ]
    }
   ],
   "source": [
    "def add_positive_numbers(a, b):\n",
    "    try:\n",
    "        if a<=0 or b<=0:\n",
    "            raise ValueError(\"One or more number is negative value\")\n",
    "            \n",
    "        return a+b\n",
    "    except ValueError as e:\n",
    "        return f\"Caught on ValueError, {e}\"\n",
    "    \n",
    "print(add_positive_numbers(3, 7))\n",
    "print(add_positive_numbers(-3, 6))\n",
    "print(add_positive_numbers(10, -5))"
   ]
  },
  {
   "cell_type": "markdown",
   "metadata": {},
   "source": [
    "### User-defined exceptions"
   ]
  },
  {
   "cell_type": "code",
   "execution_count": 23,
   "metadata": {},
   "outputs": [
    {
     "name": "stdout",
     "output_type": "stream",
     "text": [
      "Invalid number. \n"
     ]
    }
   ],
   "source": [
    "# All exceptions are inherited from Exception super class or BaseException\n",
    "\n",
    "class NegativeNumbersException(Exception):      # BaseException super class is also fine\n",
    "    \"\"\" One or more numbers are negative\"\"\"\n",
    "    pass\n",
    "\n",
    "def add_pos_nos(a, b):\n",
    "    try:\n",
    "        if a <= 0 or b <= 0:\n",
    "            raise NegativeNumbersException\n",
    "        return a + b\n",
    "    except NegativeNumbersException as e:\n",
    "        return f\"Invalid number. {e}\"\n",
    "    \n",
    "print(add_pos_nos(10, -3))"
   ]
  },
  {
   "cell_type": "markdown",
   "metadata": {},
   "source": [
    "### else & finally"
   ]
  },
  {
   "cell_type": "code",
   "execution_count": 24,
   "metadata": {},
   "outputs": [
    {
     "name": "stdout",
     "output_type": "stream",
     "text": [
      "15\n",
      "This will print only if there is no error in the try block\n",
      "This will print definitely, with or without exception\n"
     ]
    }
   ],
   "source": [
    "x = 10\n",
    "\n",
    "try:\n",
    "    print(x+5)\n",
    "except NameError as e:\n",
    "    print(\"some variable is not defined\")\n",
    "else:\n",
    "    print(\"This will print only if there is no error in the try block\")\n",
    "finally:\n",
    "    print(\"This will print definitely, with or without exception\")"
   ]
  },
  {
   "cell_type": "code",
   "execution_count": 26,
   "metadata": {},
   "outputs": [
    {
     "name": "stdout",
     "output_type": "stream",
     "text": [
      "some variable is not defined\n",
      "This will print definitely, with or without exception\n"
     ]
    }
   ],
   "source": [
    "# x = 10\n",
    "\n",
    "try:\n",
    "    print(a+5)\n",
    "except NameError as e:\n",
    "    print(\"some variable is not defined\")\n",
    "else:\n",
    "    print(\"This will print only if there is no error in the try block\")\n",
    "finally:\n",
    "    print(\"This will print definitely, with or without exception\")"
   ]
  },
  {
   "cell_type": "code",
   "execution_count": 27,
   "metadata": {},
   "outputs": [
    {
     "name": "stdout",
     "output_type": "stream",
     "text": [
      "Aardvark\n"
     ]
    }
   ],
   "source": [
    "def experiment():\n",
    "    try:\n",
    "        raise ValueError\n",
    "    except TypeError:\n",
    "        print(\"Zebra\")\n",
    "    except IndexError:\n",
    "        print(\"Kangaroo\")\n",
    "    except ValueError:\n",
    "        print(\"Aardvark\")\n",
    "    else:\n",
    "        print(\"Koala\")\n",
    " \n",
    "experiment()"
   ]
  },
  {
   "cell_type": "code",
   "execution_count": 29,
   "metadata": {},
   "outputs": [
    {
     "ename": "Problem",
     "evalue": "",
     "output_type": "error",
     "traceback": [
      "\u001b[1;31m---------------------------------------------------------------------------\u001b[0m",
      "\u001b[1;31mProblem\u001b[0m                                   Traceback (most recent call last)",
      "\u001b[1;32m<ipython-input-29-dcf0cf15d978>\u001b[0m in \u001b[0;36m<module>\u001b[1;34m\u001b[0m\n\u001b[0;32m     14\u001b[0m         \u001b[0mprint\u001b[0m\u001b[1;33m(\u001b[0m\u001b[1;34m\"Will this print?\"\u001b[0m\u001b[1;33m)\u001b[0m\u001b[1;33m\u001b[0m\u001b[1;33m\u001b[0m\u001b[0m\n\u001b[0;32m     15\u001b[0m \u001b[1;33m\u001b[0m\u001b[0m\n\u001b[1;32m---> 16\u001b[1;33m \u001b[0mmonday_morning\u001b[0m\u001b[1;33m(\u001b[0m\u001b[1;33m)\u001b[0m\u001b[1;33m\u001b[0m\u001b[1;33m\u001b[0m\u001b[0m\n\u001b[0m",
      "\u001b[1;32m<ipython-input-29-dcf0cf15d978>\u001b[0m in \u001b[0;36mmonday_morning\u001b[1;34m()\u001b[0m\n\u001b[0;32m     10\u001b[0m \u001b[1;32mdef\u001b[0m \u001b[0mmonday_morning\u001b[0m\u001b[1;33m(\u001b[0m\u001b[1;33m)\u001b[0m\u001b[1;33m:\u001b[0m\u001b[1;33m\u001b[0m\u001b[1;33m\u001b[0m\u001b[0m\n\u001b[0;32m     11\u001b[0m     \u001b[1;32mtry\u001b[0m\u001b[1;33m:\u001b[0m\u001b[1;33m\u001b[0m\u001b[1;33m\u001b[0m\u001b[0m\n\u001b[1;32m---> 12\u001b[1;33m         \u001b[1;32mraise\u001b[0m \u001b[0mProblem\u001b[0m\u001b[1;33m\u001b[0m\u001b[1;33m\u001b[0m\u001b[0m\n\u001b[0m\u001b[0;32m     13\u001b[0m     \u001b[1;32mexcept\u001b[0m \u001b[0mCodingProblem\u001b[0m\u001b[1;33m:\u001b[0m\u001b[1;33m\u001b[0m\u001b[1;33m\u001b[0m\u001b[0m\n\u001b[0;32m     14\u001b[0m         \u001b[0mprint\u001b[0m\u001b[1;33m(\u001b[0m\u001b[1;34m\"Will this print?\"\u001b[0m\u001b[1;33m)\u001b[0m\u001b[1;33m\u001b[0m\u001b[1;33m\u001b[0m\u001b[0m\n",
      "\u001b[1;31mProblem\u001b[0m: "
     ]
    }
   ],
   "source": [
    "class Problem(Exception):\n",
    "    pass\n",
    " \n",
    "class BusinessProblem(Problem):\n",
    "    pass\n",
    " \n",
    "class CodingProblem(Problem):\n",
    "    pass\n",
    " \n",
    "def monday_morning():\n",
    "    try:\n",
    "        raise Problem\n",
    "    except CodingProblem:\n",
    "        print(\"Will this print?\")\n",
    " \n",
    "monday_morning()"
   ]
  },
  {
   "cell_type": "code",
   "execution_count": null,
   "metadata": {},
   "outputs": [],
   "source": []
  },
  {
   "cell_type": "code",
   "execution_count": null,
   "metadata": {},
   "outputs": [],
   "source": []
  },
  {
   "cell_type": "code",
   "execution_count": null,
   "metadata": {},
   "outputs": [],
   "source": []
  },
  {
   "cell_type": "code",
   "execution_count": null,
   "metadata": {},
   "outputs": [],
   "source": []
  },
  {
   "cell_type": "code",
   "execution_count": null,
   "metadata": {},
   "outputs": [],
   "source": []
  },
  {
   "cell_type": "code",
   "execution_count": null,
   "metadata": {},
   "outputs": [],
   "source": []
  },
  {
   "cell_type": "code",
   "execution_count": null,
   "metadata": {},
   "outputs": [],
   "source": []
  },
  {
   "cell_type": "code",
   "execution_count": null,
   "metadata": {},
   "outputs": [],
   "source": []
  },
  {
   "cell_type": "code",
   "execution_count": null,
   "metadata": {},
   "outputs": [],
   "source": []
  },
  {
   "cell_type": "code",
   "execution_count": null,
   "metadata": {},
   "outputs": [],
   "source": []
  },
  {
   "cell_type": "code",
   "execution_count": null,
   "metadata": {},
   "outputs": [],
   "source": []
  },
  {
   "cell_type": "code",
   "execution_count": null,
   "metadata": {},
   "outputs": [],
   "source": []
  },
  {
   "cell_type": "code",
   "execution_count": null,
   "metadata": {},
   "outputs": [],
   "source": []
  },
  {
   "cell_type": "code",
   "execution_count": null,
   "metadata": {},
   "outputs": [],
   "source": []
  }
 ],
 "metadata": {
  "kernelspec": {
   "display_name": "Python 3",
   "language": "python",
   "name": "python3"
  },
  "language_info": {
   "codemirror_mode": {
    "name": "ipython",
    "version": 3
   },
   "file_extension": ".py",
   "mimetype": "text/x-python",
   "name": "python",
   "nbconvert_exporter": "python",
   "pygments_lexer": "ipython3",
   "version": "3.7.6"
  }
 },
 "nbformat": 4,
 "nbformat_minor": 4
}
